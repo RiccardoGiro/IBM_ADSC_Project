{
 "cells": [
  {
   "cell_type": "markdown",
   "metadata": {},
   "source": [
    "# Applied Data Science Capstone Project - Week 2, part 1"
   ]
  },
  {
   "cell_type": "markdown",
   "metadata": {},
   "source": [
    "Scrape the following Wikipedia page, https://en.wikipedia.org/wiki/List_of_postal_codes_of_Canada:_M, in order to obtain the data that is in the table of postal codes and to transform the data into a pandas dataframe."
   ]
  },
  {
   "cell_type": "code",
   "execution_count": 1,
   "metadata": {
    "pycharm": {
     "is_executing": false
    }
   },
   "outputs": [],
   "source": [
    "import requests\n",
    "import lxml.html as lh\n",
    "import pandas as pd"
   ]
  },
  {
   "cell_type": "code",
   "execution_count": 2,
   "metadata": {
    "pycharm": {
     "is_executing": false
    }
   },
   "outputs": [
    {
     "name": "stdout",
     "text": [
      "Column 1: Postal code\n",
      "Column 2: Borough\n",
      "Column 3: Neighborhood\n"
     ],
     "output_type": "stream"
    }
   ],
   "source": [
    "url = 'https://en.wikipedia.org/wiki/List_of_postal_codes_of_Canada:_M'\n",
    "webpage = requests.get(url)\n",
    "# Store the contents of the website inside the variable \"d\"\n",
    "d = lh.fromstring(webpage.content)\n",
    "# Parse data that are stored between <tr>..</tr> of HTML inside the variable \"data\"\n",
    "data = d.xpath('//tr')\n",
    "# Store in a list \"col_list\" the name of each table column\n",
    "col_list = []\n",
    "for idx, t in zip(range(1, 4), data[0]):\n",
    "    name = str(t.text_content()).strip()\n",
    "    print(f\"Column {idx}: {name}\")\n",
    "    col_list.append((name, []))"
   ]
  },
  {
   "cell_type": "code",
   "execution_count": 3,
   "outputs": [],
   "source": [
    "# Extract only the data pertaining to the table of postal codes\n",
    "flag = 1\n",
    "for _ in range(1, len(data)):\n",
    "    row = data[_]\n",
    "    # If the row does not have size = 3, the //tr data does not correspond to the table row, so do not extract any data\n",
    "    if len(row) != 3:\n",
    "        flag = 0\n",
    "    elif flag == 1:\n",
    "        col = 0\n",
    "        for t in row.iterchildren():\n",
    "            temp = t.text_content() \n",
    "            # Check if the row is empty\n",
    "            if col > 0:\n",
    "            # Convert any numerical value to integers\n",
    "                try:\n",
    "                    temp = int(data)\n",
    "                except TypeError:\n",
    "                    pass\n",
    "            # Append the data to the empty list of the i'th column\n",
    "            col_list[col][1].append(str(temp).strip())\n",
    "            # Increment i for the next column\n",
    "            col += 1"
   ],
   "metadata": {
    "collapsed": false,
    "pycharm": {
     "name": "#%%   \n",
     "is_executing": false
    }
   }
  },
  {
   "cell_type": "code",
   "execution_count": 4,
   "metadata": {
    "pycharm": {
     "is_executing": false
    }
   },
   "outputs": [],
   "source": [
    "# Creation of a dataframe\n",
    "data_Dict = {title:column for (title, column) in col_list}\n",
    "df = pd.DataFrame(data_Dict)"
   ]
  },
  {
   "cell_type": "code",
   "execution_count": 5,
   "outputs": [
    {
     "data": {
      "text/plain": "  Postal code      Borough                              Neighborhood\n0         M1B  Scarborough                           Malvern / Rouge\n1         M1C  Scarborough  Rouge Hill / Port Union / Highland Creek\n2         M1E  Scarborough       Guildwood / Morningside / West Hill\n3         M1G  Scarborough                                    Woburn\n4         M1H  Scarborough                                 Cedarbrae",
      "text/html": "<div>\n<style scoped>\n    .dataframe tbody tr th:only-of-type {\n        vertical-align: middle;\n    }\n\n    .dataframe tbody tr th {\n        vertical-align: top;\n    }\n\n    .dataframe thead th {\n        text-align: right;\n    }\n</style>\n<table border=\"1\" class=\"dataframe\">\n  <thead>\n    <tr style=\"text-align: right;\">\n      <th></th>\n      <th>Postal code</th>\n      <th>Borough</th>\n      <th>Neighborhood</th>\n    </tr>\n  </thead>\n  <tbody>\n    <tr>\n      <th>0</th>\n      <td>M1B</td>\n      <td>Scarborough</td>\n      <td>Malvern / Rouge</td>\n    </tr>\n    <tr>\n      <th>1</th>\n      <td>M1C</td>\n      <td>Scarborough</td>\n      <td>Rouge Hill / Port Union / Highland Creek</td>\n    </tr>\n    <tr>\n      <th>2</th>\n      <td>M1E</td>\n      <td>Scarborough</td>\n      <td>Guildwood / Morningside / West Hill</td>\n    </tr>\n    <tr>\n      <th>3</th>\n      <td>M1G</td>\n      <td>Scarborough</td>\n      <td>Woburn</td>\n    </tr>\n    <tr>\n      <th>4</th>\n      <td>M1H</td>\n      <td>Scarborough</td>\n      <td>Cedarbrae</td>\n    </tr>\n  </tbody>\n</table>\n</div>"
     },
     "metadata": {},
     "output_type": "execute_result",
     "execution_count": 5
    }
   ],
   "source": [
    "# Moving the \"Postal code\" column in first position\n",
    "df = df[['Postal code', 'Borough', 'Neighborhood']]\n",
    "# Removing all the rows that do not have a borough assigned \n",
    "df.drop(df.index[df['Borough'] == 'Not assigned'], inplace = True)\n",
    "# Removing all the rows that do not have a postal code\n",
    "df.drop(df.index[df['Postal code'] == ''], inplace = True)\n",
    "# Resetting the dataframe index to zero\n",
    "df.reset_index(drop=True, inplace=True)\n",
    "df = df.groupby(['Postal code', 'Borough'])['Neighborhood'].apply(','.join).reset_index()\n",
    "df['Neighborhood'].replace('\\n','/', regex=True, inplace=True)\n",
    "df.head()"
   ],
   "metadata": {
    "collapsed": false,
    "pycharm": {
     "name": "#%%\n",
     "is_executing": false
    }
   }
  },
  {
   "cell_type": "code",
   "execution_count": 6,
   "metadata": {
    "pycharm": {
     "is_executing": false,
     "name": "#%%\n"
    }
   },
   "outputs": [],
   "source": [
    "# Saving the dataframe as a .csv file\n",
    "df.to_csv(r'Canada_postal_codes.csv')\n"
   ]
  }
 ],
 "metadata": {
  "kernelspec": {
   "name": "pycharm-42a75ed7",
   "language": "python",
   "display_name": "PyCharm (IBM)"
  },
  "language_info": {
   "codemirror_mode": {
    "name": "ipython",
    "version": 3
   },
   "file_extension": ".py",
   "mimetype": "text/x-python",
   "name": "python",
   "nbconvert_exporter": "python",
   "pygments_lexer": "ipython3",
   "version": "3.7.6"
  },
  "pycharm": {
   "stem_cell": {
    "cell_type": "raw",
    "source": [],
    "metadata": {
     "collapsed": false
    }
   }
  }
 },
 "nbformat": 4,
 "nbformat_minor": 4
}
