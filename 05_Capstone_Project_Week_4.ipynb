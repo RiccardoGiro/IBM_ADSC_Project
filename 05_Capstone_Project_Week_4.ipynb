{
 "cells": [
  {
   "cell_type": "markdown",
   "metadata": {
    "collapsed": true,
    "pycharm": {
     "name": "#%% md\n"
    }
   },
   "source": [
    "# Applied Data Science Capstone Project (part 1)\n",
    "\n",
    "## 1. Introduction \n",
    "### 1.1. Description of the problem and discussion of the background\n",
    "The purpose of this project is to determine the best district in San Francisco for a person that may want to live in \n",
    "such city. The evaluation metrics for the problem considered are:\n",
    "1. Safety, which is related to the total number of crimes corresponding to each district;\n",
    "2. Attractiveness, which is assessed by listing the ten most common venues in each neighborhood.\n",
    "\n",
    "The above features have been chosen because they have a relevant impact in determining the choice of a new location for\n",
    "a given individual.\n",
    "\n",
    "Lastly, each neighborhood will be clustered using a procedure based on **DBSCAN**, such that neighborhoods with\n",
    "similar characteristics (from a safety and attractiveness point of view) are assigned the same label. \n",
    "\n",
    "### 1.2. Description of the data and how it will be used to solve the problem\n",
    "The crime dataset used in this work corresponds to all the crimes that occurred in San Francisco in 2016. It can be freely\n",
    "downloaded from Kaggle website at the following link: https://www.kaggle.com/roshansharma/sanfranciso-crime-dataset\n",
    "\n",
    "The crime dataset, displayed in Section 1.2.1, is structured in a table. The column labels have the following meaning:\n",
    "1. **IncidntNum**: incident number;\n",
    "2. **Category**: category of crime;\n",
    "3. **Descript**: description of the crime;\n",
    "4. **DayOfWeek**: day of the week in which the crime occurred;\n",
    "5. **Date**: date in which the crime occurred;\n",
    "6. **Time**: time in which the crime occurred;\n",
    "7. **PdDistrict**: Police department district;\n",
    "8. **Resolution**: kind of punishment given to the criminal to resolve the case;\n",
    "9. **Address**: address where the crime scene happened;\n",
    "10. **X**: longitude of the crime location;\n",
    "11. **Y**: latitude of the crime location;\n",
    "12. **Location**: Exact location (latitude, longitude);\n",
    "13. **PdId**: Pd ID.\n",
    "\n",
    "Lastly, the venues related to each district are retrieved from Foursquare, using the same procedure displayed in the\n",
    "assignments of the previous weeks\n",
    "#### 1.2.1. Preprocessing crime data\n",
    "##### Importing libraries and loading the data into a dataframe"
   ]
  },
  {
   "cell_type": "code",
   "execution_count": 1,
   "outputs": [],
   "source": [
    "import pandas as pd\n",
    "import os\n",
    "import numpy as np\n",
    "import requests\n",
    "from pytictoc import TicToc\n",
    "from geopy.geocoders import Nominatim"
   ],
   "metadata": {
    "collapsed": false,
    "pycharm": {
     "name": "#%% \n",
     "is_executing": false
    }
   }
  },
  {
   "cell_type": "code",
   "execution_count": 2,
   "outputs": [
    {
     "name": "stdout",
     "text": [
      "Shape of the raw dataframe: (150500, 13)\n"
     ],
     "output_type": "stream"
    },
    {
     "data": {
      "text/plain": "   IncidntNum      Category                                        Descript  \\\n0   120058272   WEAPON LAWS                       POSS OF PROHIBITED WEAPON   \n1   120058272   WEAPON LAWS  FIREARM, LOADED, IN VEHICLE, POSSESSION OR USE   \n2   141059263      WARRANTS                                  WARRANT ARREST   \n3   160013662  NON-CRIMINAL                                   LOST PROPERTY   \n4   160002740  NON-CRIMINAL                                   LOST PROPERTY   \n\n  DayOfWeek                    Date   Time  PdDistrict      Resolution  \\\n0    Friday  01/29/2016 12:00:00 AM  11:00    SOUTHERN  ARREST, BOOKED   \n1    Friday  01/29/2016 12:00:00 AM  11:00    SOUTHERN  ARREST, BOOKED   \n2    Monday  04/25/2016 12:00:00 AM  14:59     BAYVIEW  ARREST, BOOKED   \n3   Tuesday  01/05/2016 12:00:00 AM  23:50  TENDERLOIN            NONE   \n4    Friday  01/01/2016 12:00:00 AM  00:30     MISSION            NONE   \n\n                  Address           X          Y  \\\n0  800 Block of BRYANT ST -122.403405  37.775421   \n1  800 Block of BRYANT ST -122.403405  37.775421   \n2   KEITH ST / SHAFTER AV -122.388856  37.729981   \n3  JONES ST / OFARRELL ST -122.412971  37.785788   \n4    16TH ST / MISSION ST -122.419672  37.765050   \n\n                                Location            PdId  \n0   (37.775420706711, -122.403404791479)  12005827212120  \n1   (37.775420706711, -122.403404791479)  12005827212168  \n2  (37.7299809672996, -122.388856204292)  14105926363010  \n3  (37.7857883766888, -122.412970537591)  16001366271000  \n4  (37.7650501214668, -122.419671780296)  16000274071000  ",
      "text/html": "<div>\n<style scoped>\n    .dataframe tbody tr th:only-of-type {\n        vertical-align: middle;\n    }\n\n    .dataframe tbody tr th {\n        vertical-align: top;\n    }\n\n    .dataframe thead th {\n        text-align: right;\n    }\n</style>\n<table border=\"1\" class=\"dataframe\">\n  <thead>\n    <tr style=\"text-align: right;\">\n      <th></th>\n      <th>IncidntNum</th>\n      <th>Category</th>\n      <th>Descript</th>\n      <th>DayOfWeek</th>\n      <th>Date</th>\n      <th>Time</th>\n      <th>PdDistrict</th>\n      <th>Resolution</th>\n      <th>Address</th>\n      <th>X</th>\n      <th>Y</th>\n      <th>Location</th>\n      <th>PdId</th>\n    </tr>\n  </thead>\n  <tbody>\n    <tr>\n      <th>0</th>\n      <td>120058272</td>\n      <td>WEAPON LAWS</td>\n      <td>POSS OF PROHIBITED WEAPON</td>\n      <td>Friday</td>\n      <td>01/29/2016 12:00:00 AM</td>\n      <td>11:00</td>\n      <td>SOUTHERN</td>\n      <td>ARREST, BOOKED</td>\n      <td>800 Block of BRYANT ST</td>\n      <td>-122.403405</td>\n      <td>37.775421</td>\n      <td>(37.775420706711, -122.403404791479)</td>\n      <td>12005827212120</td>\n    </tr>\n    <tr>\n      <th>1</th>\n      <td>120058272</td>\n      <td>WEAPON LAWS</td>\n      <td>FIREARM, LOADED, IN VEHICLE, POSSESSION OR USE</td>\n      <td>Friday</td>\n      <td>01/29/2016 12:00:00 AM</td>\n      <td>11:00</td>\n      <td>SOUTHERN</td>\n      <td>ARREST, BOOKED</td>\n      <td>800 Block of BRYANT ST</td>\n      <td>-122.403405</td>\n      <td>37.775421</td>\n      <td>(37.775420706711, -122.403404791479)</td>\n      <td>12005827212168</td>\n    </tr>\n    <tr>\n      <th>2</th>\n      <td>141059263</td>\n      <td>WARRANTS</td>\n      <td>WARRANT ARREST</td>\n      <td>Monday</td>\n      <td>04/25/2016 12:00:00 AM</td>\n      <td>14:59</td>\n      <td>BAYVIEW</td>\n      <td>ARREST, BOOKED</td>\n      <td>KEITH ST / SHAFTER AV</td>\n      <td>-122.388856</td>\n      <td>37.729981</td>\n      <td>(37.7299809672996, -122.388856204292)</td>\n      <td>14105926363010</td>\n    </tr>\n    <tr>\n      <th>3</th>\n      <td>160013662</td>\n      <td>NON-CRIMINAL</td>\n      <td>LOST PROPERTY</td>\n      <td>Tuesday</td>\n      <td>01/05/2016 12:00:00 AM</td>\n      <td>23:50</td>\n      <td>TENDERLOIN</td>\n      <td>NONE</td>\n      <td>JONES ST / OFARRELL ST</td>\n      <td>-122.412971</td>\n      <td>37.785788</td>\n      <td>(37.7857883766888, -122.412970537591)</td>\n      <td>16001366271000</td>\n    </tr>\n    <tr>\n      <th>4</th>\n      <td>160002740</td>\n      <td>NON-CRIMINAL</td>\n      <td>LOST PROPERTY</td>\n      <td>Friday</td>\n      <td>01/01/2016 12:00:00 AM</td>\n      <td>00:30</td>\n      <td>MISSION</td>\n      <td>NONE</td>\n      <td>16TH ST / MISSION ST</td>\n      <td>-122.419672</td>\n      <td>37.765050</td>\n      <td>(37.7650501214668, -122.419671780296)</td>\n      <td>16000274071000</td>\n    </tr>\n  </tbody>\n</table>\n</div>"
     },
     "metadata": {},
     "output_type": "execute_result",
     "execution_count": 2
    }
   ],
   "source": [
    "absolute_path = os.path.abspath(os.path.dirname('Data/'))\n",
    "df = pd.read_csv(absolute_path + \"\\Crime_SF.csv\")\n",
    "print(f\"Shape of the raw dataframe: {df.shape}\")\n",
    "df.head()"
   ],
   "metadata": {
    "collapsed": false,
    "pycharm": {
     "name": "#%%\n",
     "is_executing": false
    }
   }
  },
  {
   "cell_type": "markdown",
   "source": [
    "##### Selection of the columns of interest"
   ],
   "metadata": {
    "collapsed": false,
    "pycharm": {
     "name": "#%% md\n",
     "is_executing": false
    }
   }
  },
  {
   "cell_type": "code",
   "execution_count": 3,
   "outputs": [
    {
     "data": {
      "text/plain": "        PdDistrict       Category           X          Y\n150495  TENDERLOIN    WEAPON LAWS -122.411966  37.784914\n150496  TENDERLOIN    WEAPON LAWS -122.412054  37.781614\n150497  TENDERLOIN    WEAPON LAWS -122.416711  37.783357\n150498  TENDERLOIN    WEAPON LAWS -122.416711  37.783357\n150499         NaN  LARCENY/THEFT -122.413352  37.708202",
      "text/html": "<div>\n<style scoped>\n    .dataframe tbody tr th:only-of-type {\n        vertical-align: middle;\n    }\n\n    .dataframe tbody tr th {\n        vertical-align: top;\n    }\n\n    .dataframe thead th {\n        text-align: right;\n    }\n</style>\n<table border=\"1\" class=\"dataframe\">\n  <thead>\n    <tr style=\"text-align: right;\">\n      <th></th>\n      <th>PdDistrict</th>\n      <th>Category</th>\n      <th>X</th>\n      <th>Y</th>\n    </tr>\n  </thead>\n  <tbody>\n    <tr>\n      <th>150495</th>\n      <td>TENDERLOIN</td>\n      <td>WEAPON LAWS</td>\n      <td>-122.411966</td>\n      <td>37.784914</td>\n    </tr>\n    <tr>\n      <th>150496</th>\n      <td>TENDERLOIN</td>\n      <td>WEAPON LAWS</td>\n      <td>-122.412054</td>\n      <td>37.781614</td>\n    </tr>\n    <tr>\n      <th>150497</th>\n      <td>TENDERLOIN</td>\n      <td>WEAPON LAWS</td>\n      <td>-122.416711</td>\n      <td>37.783357</td>\n    </tr>\n    <tr>\n      <th>150498</th>\n      <td>TENDERLOIN</td>\n      <td>WEAPON LAWS</td>\n      <td>-122.416711</td>\n      <td>37.783357</td>\n    </tr>\n    <tr>\n      <th>150499</th>\n      <td>NaN</td>\n      <td>LARCENY/THEFT</td>\n      <td>-122.413352</td>\n      <td>37.708202</td>\n    </tr>\n  </tbody>\n</table>\n</div>"
     },
     "metadata": {},
     "output_type": "execute_result",
     "execution_count": 3
    }
   ],
   "source": [
    "df2 = pd.DataFrame(df[['PdDistrict', 'Category', 'X', 'Y']])\n",
    "df2.sort_values(by=['PdDistrict', 'Category'], inplace=True)\n",
    "df2.reset_index(drop=True, inplace=True)\n",
    "# The last row needs to be removed, since that crime has not been assigned to any district (NaN)\n",
    "df2.tail()"
   ],
   "metadata": {
    "collapsed": false,
    "pycharm": {
     "name": "#%%\n",
     "is_executing": false
    }
   }
  },
  {
   "cell_type": "markdown",
   "source": [
    "##### Removing the last row, which contains a NaN value"
   ],
   "metadata": {
    "collapsed": false
   }
  },
  {
   "cell_type": "code",
   "execution_count": 4,
   "outputs": [
    {
     "data": {
      "text/plain": "        PdDistrict     Category           X          Y\n150494  TENDERLOIN  WEAPON LAWS -122.409661  37.786439\n150495  TENDERLOIN  WEAPON LAWS -122.411966  37.784914\n150496  TENDERLOIN  WEAPON LAWS -122.412054  37.781614\n150497  TENDERLOIN  WEAPON LAWS -122.416711  37.783357\n150498  TENDERLOIN  WEAPON LAWS -122.416711  37.783357",
      "text/html": "<div>\n<style scoped>\n    .dataframe tbody tr th:only-of-type {\n        vertical-align: middle;\n    }\n\n    .dataframe tbody tr th {\n        vertical-align: top;\n    }\n\n    .dataframe thead th {\n        text-align: right;\n    }\n</style>\n<table border=\"1\" class=\"dataframe\">\n  <thead>\n    <tr style=\"text-align: right;\">\n      <th></th>\n      <th>PdDistrict</th>\n      <th>Category</th>\n      <th>X</th>\n      <th>Y</th>\n    </tr>\n  </thead>\n  <tbody>\n    <tr>\n      <th>150494</th>\n      <td>TENDERLOIN</td>\n      <td>WEAPON LAWS</td>\n      <td>-122.409661</td>\n      <td>37.786439</td>\n    </tr>\n    <tr>\n      <th>150495</th>\n      <td>TENDERLOIN</td>\n      <td>WEAPON LAWS</td>\n      <td>-122.411966</td>\n      <td>37.784914</td>\n    </tr>\n    <tr>\n      <th>150496</th>\n      <td>TENDERLOIN</td>\n      <td>WEAPON LAWS</td>\n      <td>-122.412054</td>\n      <td>37.781614</td>\n    </tr>\n    <tr>\n      <th>150497</th>\n      <td>TENDERLOIN</td>\n      <td>WEAPON LAWS</td>\n      <td>-122.416711</td>\n      <td>37.783357</td>\n    </tr>\n    <tr>\n      <th>150498</th>\n      <td>TENDERLOIN</td>\n      <td>WEAPON LAWS</td>\n      <td>-122.416711</td>\n      <td>37.783357</td>\n    </tr>\n  </tbody>\n</table>\n</div>"
     },
     "metadata": {},
     "output_type": "execute_result",
     "execution_count": 4
    }
   ],
   "source": [
    "df2.drop(df2.tail(1).index, inplace=True)\n",
    "df2.tail()\n"
   ],
   "metadata": {
    "collapsed": false,
    "pycharm": {
     "name": "#%%\n",
     "is_executing": false
    }
   }
  },
  {
   "cell_type": "markdown",
   "source": [
    "##### Crime dataset information"
   ],
   "metadata": {
    "collapsed": false
   }
  },
  {
   "cell_type": "code",
   "execution_count": 5,
   "outputs": [
    {
     "name": "stdout",
     "text": [
      "Current shape of the dataframe: (150499, 4)\n",
      "-------------------------------------------\n",
      "<class 'pandas.core.frame.DataFrame'>\n",
      "Int64Index: 150499 entries, 0 to 150498\n",
      "Data columns (total 4 columns):\n",
      " #   Column      Non-Null Count   Dtype  \n",
      "---  ------      --------------   -----  \n",
      " 0   PdDistrict  150499 non-null  object \n",
      " 1   Category    150499 non-null  object \n",
      " 2   X           150499 non-null  float64\n",
      " 3   Y           150499 non-null  float64\n",
      "dtypes: float64(2), object(2)\n",
      "memory usage: 5.7+ MB\n",
      "None\n",
      "-------------------------------------------\n",
      "District      Number of crimes\n",
      "\n",
      "SOUTHERN      28445\n",
      "NORTHERN      20100\n",
      "MISSION       19503\n",
      "CENTRAL       17666\n",
      "BAYVIEW       14303\n",
      "INGLESIDE     11594\n",
      "TARAVAL       11325\n",
      "TENDERLOIN     9942\n",
      "RICHMOND       8922\n",
      "PARK           8699\n",
      "Name: PdDistrict, dtype: int64\n",
      "-------------------------------------------\n",
      "Category\t\t       Number of occurrencies\n",
      "\n",
      "LARCENY/THEFT                  40408\n",
      "OTHER OFFENSES                 19599\n",
      "NON-CRIMINAL                   17866\n",
      "ASSAULT                        13577\n",
      "VANDALISM                       8589\n",
      "VEHICLE THEFT                   6419\n",
      "WARRANTS                        5914\n",
      "BURGLARY                        5802\n",
      "SUSPICIOUS OCC                  5782\n",
      "MISSING PERSON                  4338\n",
      "DRUG/NARCOTIC                   4243\n",
      "ROBBERY                         3299\n",
      "FRAUD                           2635\n",
      "SECONDARY CODES                 1841\n",
      "TRESPASS                        1812\n",
      "WEAPON LAWS                     1658\n",
      "SEX OFFENSES, FORCIBLE           940\n",
      "STOLEN PROPERTY                  882\n",
      "RECOVERED VEHICLE                736\n",
      "DISORDERLY CONDUCT               658\n",
      "PROSTITUTION                     641\n",
      "FORGERY/COUNTERFEITING           619\n",
      "DRUNKENNESS                      465\n",
      "DRIVING UNDER THE INFLUENCE      378\n",
      "ARSON                            286\n",
      "KIDNAPPING                       257\n",
      "EMBEZZLEMENT                     168\n",
      "LIQUOR LAWS                      156\n",
      "RUNAWAY                          140\n",
      "SUICIDE                           69\n",
      "BRIBERY                           66\n",
      "EXTORTION                         60\n",
      "FAMILY OFFENSES                   53\n",
      "LOITERING                         42\n",
      "SEX OFFENSES, NON FORCIBLE        40\n",
      "BAD CHECKS                        34\n",
      "GAMBLING                          20\n",
      "PORNOGRAPHY/OBSCENE MAT            4\n",
      "TREA                               3\n",
      "Name: Category, dtype: int64\n",
      "-------------------------------------------\n",
      "Number of Police districts = 10.\n",
      "Number of different crimes = 39.\n"
     ],
     "output_type": "stream"
    }
   ],
   "source": [
    "print(f\"Current shape of the dataframe: {df2.shape}\")\n",
    "print(\"-------------------------------------------\")\n",
    "print(df2.info())\n",
    "# Total number of crimes in each Police district\n",
    "print(\"-------------------------------------------\")\n",
    "print(\"District      Number of crimes\\n\")\n",
    "print(df2['PdDistrict'].value_counts())\n",
    "print(\"-------------------------------------------\")\n",
    "# Total number of crimes per category\n",
    "print(\"Category\\t\\t       Number of occurrencies\\n\")\n",
    "print(df2['Category'].value_counts())\n",
    "print(\"-------------------------------------------\")\n",
    "print(f\"Number of Police districts = {len(df2['PdDistrict'].unique())}.\")\n",
    "print(f\"Number of different crimes = {len(df2['Category'].unique())}.\")"
   ],
   "metadata": {
    "collapsed": false,
    "pycharm": {
     "name": "#%%\n",
     "is_executing": false
    }
   }
  },
  {
   "cell_type": "markdown",
   "source": [
    "##### Pivoting the table to observe the number of crimes for each category in each district "
   ],
   "metadata": {
    "collapsed": false
   }
  },
  {
   "cell_type": "code",
   "execution_count": 6,
   "outputs": [],
   "source": [
    "temp = pd.DataFrame(df2)\n",
    "temp.insert(2, \"\", np.ones(df2.shape[0]))"
   ],
   "metadata": {
    "collapsed": false,
    "pycharm": {
     "name": "#%%\n",
     "is_executing": false
    }
   }
  },
  {
   "cell_type": "code",
   "execution_count": 7,
   "outputs": [
    {
     "data": {
      "text/plain": "            BAYVIEW  CENTRAL  INGLESIDE  MISSION  NORTHERN  PARK  RICHMOND  \\\nCategory                                                                     \nARSON            71       29         22       46        27    13        14   \nASSAULT        1775     1187       1506     2110      1536   524       473   \nBAD CHECKS        4        3          2        2         4     2         5   \nBRIBERY          20        3          8       10         4     1         2   \nBURGLARY        521      645        534      793       803   413       395   \n\n            SOUTHERN  TARAVAL  TENDERLOIN  Total  \nCategory                                          \nARSON             33       18          13    286  \nASSAULT         2352      918        1196  13577  \nBAD CHECKS         6        6           0     34  \nBRIBERY            8        4           6     66  \nBURGLARY         842      695         161   5802  ",
      "text/html": "<div>\n<style scoped>\n    .dataframe tbody tr th:only-of-type {\n        vertical-align: middle;\n    }\n\n    .dataframe tbody tr th {\n        vertical-align: top;\n    }\n\n    .dataframe thead th {\n        text-align: right;\n    }\n</style>\n<table border=\"1\" class=\"dataframe\">\n  <thead>\n    <tr style=\"text-align: right;\">\n      <th></th>\n      <th>BAYVIEW</th>\n      <th>CENTRAL</th>\n      <th>INGLESIDE</th>\n      <th>MISSION</th>\n      <th>NORTHERN</th>\n      <th>PARK</th>\n      <th>RICHMOND</th>\n      <th>SOUTHERN</th>\n      <th>TARAVAL</th>\n      <th>TENDERLOIN</th>\n      <th>Total</th>\n    </tr>\n    <tr>\n      <th>Category</th>\n      <th></th>\n      <th></th>\n      <th></th>\n      <th></th>\n      <th></th>\n      <th></th>\n      <th></th>\n      <th></th>\n      <th></th>\n      <th></th>\n      <th></th>\n    </tr>\n  </thead>\n  <tbody>\n    <tr>\n      <th>ARSON</th>\n      <td>71</td>\n      <td>29</td>\n      <td>22</td>\n      <td>46</td>\n      <td>27</td>\n      <td>13</td>\n      <td>14</td>\n      <td>33</td>\n      <td>18</td>\n      <td>13</td>\n      <td>286</td>\n    </tr>\n    <tr>\n      <th>ASSAULT</th>\n      <td>1775</td>\n      <td>1187</td>\n      <td>1506</td>\n      <td>2110</td>\n      <td>1536</td>\n      <td>524</td>\n      <td>473</td>\n      <td>2352</td>\n      <td>918</td>\n      <td>1196</td>\n      <td>13577</td>\n    </tr>\n    <tr>\n      <th>BAD CHECKS</th>\n      <td>4</td>\n      <td>3</td>\n      <td>2</td>\n      <td>2</td>\n      <td>4</td>\n      <td>2</td>\n      <td>5</td>\n      <td>6</td>\n      <td>6</td>\n      <td>0</td>\n      <td>34</td>\n    </tr>\n    <tr>\n      <th>BRIBERY</th>\n      <td>20</td>\n      <td>3</td>\n      <td>8</td>\n      <td>10</td>\n      <td>4</td>\n      <td>1</td>\n      <td>2</td>\n      <td>8</td>\n      <td>4</td>\n      <td>6</td>\n      <td>66</td>\n    </tr>\n    <tr>\n      <th>BURGLARY</th>\n      <td>521</td>\n      <td>645</td>\n      <td>534</td>\n      <td>793</td>\n      <td>803</td>\n      <td>413</td>\n      <td>395</td>\n      <td>842</td>\n      <td>695</td>\n      <td>161</td>\n      <td>5802</td>\n    </tr>\n  </tbody>\n</table>\n</div>"
     },
     "metadata": {},
     "output_type": "execute_result",
     "execution_count": 7
    }
   ],
   "source": [
    "df2_pivot = pd.pivot_table(temp, values=[\"\"], index=['Category'], columns=['PdDistrict'], aggfunc=np.sum, fill_value=0)\n",
    "df2_pivot['Total'] = df2_pivot.sum(axis=1)\n",
    "df2_pivot.columns = df2_pivot.columns.map(''.join)\n",
    "df2_pivot.head()"
   ],
   "metadata": {
    "collapsed": false,
    "pycharm": {
     "name": "#%%\n",
     "is_executing": false
    }
   }
  },
  {
   "cell_type": "markdown",
   "source": [
    "#### 1.2.2. Data retrieval from Foursquare\n",
    "##### Definition of Foursquare credentials"
   ],
   "metadata": {
    "collapsed": false,
    "pycharm": {
     "name": "#%% md\n"
    }
   }
  },
  {
   "cell_type": "code",
   "execution_count": 8,
   "outputs": [
    {
     "name": "stdout",
     "text": [
      "Credentials\n",
      "CLIENT ID:     1B2QEZLDCQCQUAXR325SRGV0T1YT4FPSQLIJLYBBGTBEHIKE\n",
      "CLIENT SECRET: CUVST2LHRHS1LHKBXH4SPMH1C3H3P5FBVIFLNFSSH4GZFDF2\n",
      "Developer credentials:\n"
     ],
     "output_type": "stream"
    }
   ],
   "source": [
    "ID = '1B2QEZLDCQCQUAXR325SRGV0T1YT4FPSQLIJLYBBGTBEHIKE'\n",
    "secret = 'CUVST2LHRHS1LHKBXH4SPMH1C3H3P5FBVIFLNFSSH4GZFDF2' \n",
    "version = '20200401'\n",
    "limit = 500\n",
    "print(f\"Credentials\\nCLIENT ID:     {ID}\\nCLIENT SECRET: {secret}\")\n",
    "print('Developer credentials:')"
   ],
   "metadata": {
    "collapsed": false,
    "pycharm": {
     "name": "#%%\n",
     "is_executing": false
    }
   }
  },
  {
   "cell_type": "markdown",
   "source": [
    "##### Extraction of Foursquare data"
   ],
   "metadata": {
    "collapsed": false,
    "pycharm": {
     "name": "#%% md\n"
    }
   }
  },
  {
   "cell_type": "code",
   "execution_count": 9,
   "outputs": [],
   "source": [
    "# This function retrieves the nearby venues for a given district in San Francisco\n",
    "def getNearbyVenues(names, LAT, LON, radius=3500):\n",
    "    venues_list=[]\n",
    "    for i, j, k in zip(names, LAT, LON):\n",
    "        #  API request URL\n",
    "        url = f\"https://api.foursquare.com/v2/venues/explore?&client_id={ID}&client_secret={secret}&v={version}\" \\\n",
    "              f\"&ll={j},{k}&radius={radius}&limit={limit}\"\n",
    "        # GET request\n",
    "        results = requests.get(url).json()[\"response\"]['groups'][0]['items']\n",
    "        # Return only relevant information for each nearby venue\n",
    "        venues_list.append([(i, j, k, v['venue']['name'], v['venue']['location']['lat'], \n",
    "            v['venue']['location']['lng'], v['venue']['categories'][0]['name']) for v in results])\n",
    "    nearby_venues = pd.DataFrame([item for venue_list in venues_list for item in venue_list])\n",
    "    nearby_venues.columns = ['Neighborhood', 'Neighborhood Latitude', 'Neighborhood Longitude', 'Venue',\n",
    "                             'Venue Latitude', 'Venue Longitude', 'Venue Category']\n",
    "    return nearby_venues\n"
   ],
   "metadata": {
    "collapsed": false,
    "pycharm": {
     "name": "#%%\n",
     "is_executing": false
    }
   }
  },
  {
   "cell_type": "markdown",
   "source": [
    "##### San Francisco Police dept. addresses (available on: https://sfgov.org/policecommission/police-district-maps), used as \"districts' center points\""
   ],
   "metadata": {
    "collapsed": false,
    "pycharm": {
     "name": "#%% md\n"
    }
   }
  },
  {
   "cell_type": "code",
   "execution_count": 10,
   "outputs": [],
   "source": [
    "address_dict = {\n",
    "    'Bayview': '201 Williams Avenue',\n",
    "    'Central': '766 Vallejo Street',\n",
    "    'Ingleside': 'Havelock St',\n",
    "    'Mission': '630 Valencia Street',\n",
    "    'Northern': '1125 Fillmore Street',\n",
    "    'Park': '1899 Waller Street',\n",
    "    'Richmond': '461 6th Avenue',\n",
    "    'Southern': '1251 3rd Street',\n",
    "    'Taraval': '2345 24th Avenue',\n",
    "    'Tenderloin': '301 Eddy Street',\n",
    "}\n",
    "# Coordinates of the districts\n",
    "geo_locator = Nominatim(user_agent=\"my_username\")\n",
    "lat = []\n",
    "lon = []\n",
    "for _ in address_dict.values():\n",
    "    loc = geo_locator.geocode(_ + \", San Francisco, CA, 94122\")\n",
    "    lat.append(loc.latitude)\n",
    "    lon.append(loc.longitude)"
   ],
   "metadata": {
    "collapsed": false,
    "pycharm": {
     "name": "#%%\n",
     "is_executing": false
    }
   }
  },
  {
   "cell_type": "markdown",
   "source": [
    "##### Extraction of San Francisco venues for each district in the database"
   ],
   "metadata": {
    "collapsed": false,
    "pycharm": {
     "name": "#%% md\n"
    }
   }
  },
  {
   "cell_type": "code",
   "execution_count": 11,
   "outputs": [
    {
     "name": "stdout",
     "text": [
      "All venues successfully extracted. Elapsed time: 7.236550 seconds.\n"
     ],
     "output_type": "stream"
    }
   ],
   "source": [
    "t = TicToc()\n",
    "t.tic()\n",
    "venues = getNearbyVenues(names=df2['PdDistrict'].unique(), LAT=lat, LON=lon)\n",
    "t.toc(\"All venues successfully extracted. Elapsed time:\")"
   ],
   "metadata": {
    "collapsed": false,
    "pycharm": {
     "name": "#%%\n",
     "is_executing": false
    }
   }
  },
  {
   "cell_type": "markdown",
   "source": [
    "##### General information about the extracted dataframe and number of different venue categories"
   ],
   "metadata": {
    "collapsed": false,
    "pycharm": {
     "name": "#%% md\n"
    }
   }
  },
  {
   "cell_type": "code",
   "execution_count": 12,
   "outputs": [
    {
     "name": "stdout",
     "text": [
      "Shape of the venues dataframe: (1000, 7)\n",
      "There are 181 different types of venues.\n"
     ],
     "output_type": "stream"
    },
    {
     "data": {
      "text/plain": "              Neighborhood Latitude  Neighborhood Longitude  Venue  \\\nNeighborhood                                                         \nBAYVIEW                         100                     100    100   \nCENTRAL                         100                     100    100   \nINGLESIDE                       100                     100    100   \nMISSION                         100                     100    100   \nNORTHERN                        100                     100    100   \n\n              Venue Latitude  Venue Longitude  Venue Category  \nNeighborhood                                                   \nBAYVIEW                  100              100             100  \nCENTRAL                  100              100             100  \nINGLESIDE                100              100             100  \nMISSION                  100              100             100  \nNORTHERN                 100              100             100  ",
      "text/html": "<div>\n<style scoped>\n    .dataframe tbody tr th:only-of-type {\n        vertical-align: middle;\n    }\n\n    .dataframe tbody tr th {\n        vertical-align: top;\n    }\n\n    .dataframe thead th {\n        text-align: right;\n    }\n</style>\n<table border=\"1\" class=\"dataframe\">\n  <thead>\n    <tr style=\"text-align: right;\">\n      <th></th>\n      <th>Neighborhood Latitude</th>\n      <th>Neighborhood Longitude</th>\n      <th>Venue</th>\n      <th>Venue Latitude</th>\n      <th>Venue Longitude</th>\n      <th>Venue Category</th>\n    </tr>\n    <tr>\n      <th>Neighborhood</th>\n      <th></th>\n      <th></th>\n      <th></th>\n      <th></th>\n      <th></th>\n      <th></th>\n    </tr>\n  </thead>\n  <tbody>\n    <tr>\n      <th>BAYVIEW</th>\n      <td>100</td>\n      <td>100</td>\n      <td>100</td>\n      <td>100</td>\n      <td>100</td>\n      <td>100</td>\n    </tr>\n    <tr>\n      <th>CENTRAL</th>\n      <td>100</td>\n      <td>100</td>\n      <td>100</td>\n      <td>100</td>\n      <td>100</td>\n      <td>100</td>\n    </tr>\n    <tr>\n      <th>INGLESIDE</th>\n      <td>100</td>\n      <td>100</td>\n      <td>100</td>\n      <td>100</td>\n      <td>100</td>\n      <td>100</td>\n    </tr>\n    <tr>\n      <th>MISSION</th>\n      <td>100</td>\n      <td>100</td>\n      <td>100</td>\n      <td>100</td>\n      <td>100</td>\n      <td>100</td>\n    </tr>\n    <tr>\n      <th>NORTHERN</th>\n      <td>100</td>\n      <td>100</td>\n      <td>100</td>\n      <td>100</td>\n      <td>100</td>\n      <td>100</td>\n    </tr>\n  </tbody>\n</table>\n</div>"
     },
     "metadata": {},
     "output_type": "execute_result",
     "execution_count": 12
    }
   ],
   "source": [
    "print(f\"Shape of the venues dataframe: {venues.shape}\")\n",
    "print(f\"There are {len(venues['Venue Category'].unique())} different types of venues.\")\n",
    "venues.groupby('Neighborhood').count().head()"
   ],
   "metadata": {
    "collapsed": false,
    "pycharm": {
     "name": "#%%\n",
     "is_executing": false
    }
   }
  },
  {
   "cell_type": "markdown",
   "source": [
    "##### One-hot encoding of venues"
   ],
   "metadata": {
    "collapsed": false
   }
  },
  {
   "cell_type": "code",
   "execution_count": 13,
   "outputs": [],
   "source": [
    "venues_df = pd.get_dummies(venues[['Venue Category']], prefix=\"\", prefix_sep=\"\")\n",
    "venues_df['PdDistrict'] = venues['Neighborhood']\n",
    "pos = [venues_df.columns[-1]] + list(venues_df.columns[:-1])\n",
    "venues_df = venues_df[pos]"
   ],
   "metadata": {
    "collapsed": false,
    "pycharm": {
     "name": "#%%\n",
     "is_executing": false
    }
   }
  },
  {
   "cell_type": "code",
   "execution_count": 14,
   "outputs": [
    {
     "name": "stdout",
     "text": [
      "Original dataframe shape: (1000, 7).\n",
      "Transformed dataframe shape: (10, 182).\n"
     ],
     "output_type": "stream"
    },
    {
     "data": {
      "text/plain": "   PdDistrict  Accessories Store  Adult Boutique  African Restaurant  \\\n0     BAYVIEW                  0               0                   1   \n1     CENTRAL                  0               0                   0   \n2   INGLESIDE                  0               0                   0   \n3     MISSION                  0               1                   0   \n4    NORTHERN                  0               1                   0   \n5        PARK                  1               0                   0   \n6    RICHMOND                  1               0                   0   \n7    SOUTHERN                  0               0                   0   \n8     TARAVAL                  0               0                   0   \n9  TENDERLOIN                  0               0                   0   \n\n   American Restaurant  Aquarium  Arcade  Argentinian Restaurant  Art Gallery  \\\n0                    1         0       0                       0            1   \n1                    0         0       0                       0            0   \n2                    0         0       0                       0            0   \n3                    0         0       0                       1            0   \n4                    1         0       0                       0            0   \n5                    0         0       1                       0            1   \n6                    0         1       1                       0            0   \n7                    0         0       0                       0            1   \n8                    0         0       0                       0            0   \n9                    1         0       0                       0            0   \n\n   Art Museum  ...  Trail  Turkish Restaurant  Udon Restaurant  \\\n0           0  ...      0                   1                0   \n1           3  ...      2                   0                0   \n2           0  ...      1                   1                0   \n3           0  ...      0                   0                0   \n4           1  ...      1                   0                0   \n5           1  ...      1                   0                0   \n6           1  ...      1                   0                0   \n7           2  ...      0                   0                0   \n8           0  ...      2                   0                1   \n9           3  ...      0                   0                0   \n\n   Vietnamese Restaurant  Waterfall  Wine Bar  Wine Shop  Yoga Studio  Zoo  \\\n0                      1          0         0          0            2    0   \n1                      1          0         6          1            2    0   \n2                      1          0         1          1            2    0   \n3                      0          0         4          0            8    0   \n4                      0          0         3          0            5    0   \n5                      0          1         0          0            2    0   \n6                      1          1         1          0            2    0   \n7                      2          0         0          3            2    0   \n8                      2          0         1          1            1    1   \n9                      1          0         6          2            2    0   \n\n   Zoo Exhibit  \n0            0  \n1            1  \n2            0  \n3            0  \n4            0  \n5            0  \n6            0  \n7            0  \n8            0  \n9            0  \n\n[10 rows x 182 columns]",
      "text/html": "<div>\n<style scoped>\n    .dataframe tbody tr th:only-of-type {\n        vertical-align: middle;\n    }\n\n    .dataframe tbody tr th {\n        vertical-align: top;\n    }\n\n    .dataframe thead th {\n        text-align: right;\n    }\n</style>\n<table border=\"1\" class=\"dataframe\">\n  <thead>\n    <tr style=\"text-align: right;\">\n      <th></th>\n      <th>PdDistrict</th>\n      <th>Accessories Store</th>\n      <th>Adult Boutique</th>\n      <th>African Restaurant</th>\n      <th>American Restaurant</th>\n      <th>Aquarium</th>\n      <th>Arcade</th>\n      <th>Argentinian Restaurant</th>\n      <th>Art Gallery</th>\n      <th>Art Museum</th>\n      <th>...</th>\n      <th>Trail</th>\n      <th>Turkish Restaurant</th>\n      <th>Udon Restaurant</th>\n      <th>Vietnamese Restaurant</th>\n      <th>Waterfall</th>\n      <th>Wine Bar</th>\n      <th>Wine Shop</th>\n      <th>Yoga Studio</th>\n      <th>Zoo</th>\n      <th>Zoo Exhibit</th>\n    </tr>\n  </thead>\n  <tbody>\n    <tr>\n      <th>0</th>\n      <td>BAYVIEW</td>\n      <td>0</td>\n      <td>0</td>\n      <td>1</td>\n      <td>1</td>\n      <td>0</td>\n      <td>0</td>\n      <td>0</td>\n      <td>1</td>\n      <td>0</td>\n      <td>...</td>\n      <td>0</td>\n      <td>1</td>\n      <td>0</td>\n      <td>1</td>\n      <td>0</td>\n      <td>0</td>\n      <td>0</td>\n      <td>2</td>\n      <td>0</td>\n      <td>0</td>\n    </tr>\n    <tr>\n      <th>1</th>\n      <td>CENTRAL</td>\n      <td>0</td>\n      <td>0</td>\n      <td>0</td>\n      <td>0</td>\n      <td>0</td>\n      <td>0</td>\n      <td>0</td>\n      <td>0</td>\n      <td>3</td>\n      <td>...</td>\n      <td>2</td>\n      <td>0</td>\n      <td>0</td>\n      <td>1</td>\n      <td>0</td>\n      <td>6</td>\n      <td>1</td>\n      <td>2</td>\n      <td>0</td>\n      <td>1</td>\n    </tr>\n    <tr>\n      <th>2</th>\n      <td>INGLESIDE</td>\n      <td>0</td>\n      <td>0</td>\n      <td>0</td>\n      <td>0</td>\n      <td>0</td>\n      <td>0</td>\n      <td>0</td>\n      <td>0</td>\n      <td>0</td>\n      <td>...</td>\n      <td>1</td>\n      <td>1</td>\n      <td>0</td>\n      <td>1</td>\n      <td>0</td>\n      <td>1</td>\n      <td>1</td>\n      <td>2</td>\n      <td>0</td>\n      <td>0</td>\n    </tr>\n    <tr>\n      <th>3</th>\n      <td>MISSION</td>\n      <td>0</td>\n      <td>1</td>\n      <td>0</td>\n      <td>0</td>\n      <td>0</td>\n      <td>0</td>\n      <td>1</td>\n      <td>0</td>\n      <td>0</td>\n      <td>...</td>\n      <td>0</td>\n      <td>0</td>\n      <td>0</td>\n      <td>0</td>\n      <td>0</td>\n      <td>4</td>\n      <td>0</td>\n      <td>8</td>\n      <td>0</td>\n      <td>0</td>\n    </tr>\n    <tr>\n      <th>4</th>\n      <td>NORTHERN</td>\n      <td>0</td>\n      <td>1</td>\n      <td>0</td>\n      <td>1</td>\n      <td>0</td>\n      <td>0</td>\n      <td>0</td>\n      <td>0</td>\n      <td>1</td>\n      <td>...</td>\n      <td>1</td>\n      <td>0</td>\n      <td>0</td>\n      <td>0</td>\n      <td>0</td>\n      <td>3</td>\n      <td>0</td>\n      <td>5</td>\n      <td>0</td>\n      <td>0</td>\n    </tr>\n    <tr>\n      <th>5</th>\n      <td>PARK</td>\n      <td>1</td>\n      <td>0</td>\n      <td>0</td>\n      <td>0</td>\n      <td>0</td>\n      <td>1</td>\n      <td>0</td>\n      <td>1</td>\n      <td>1</td>\n      <td>...</td>\n      <td>1</td>\n      <td>0</td>\n      <td>0</td>\n      <td>0</td>\n      <td>1</td>\n      <td>0</td>\n      <td>0</td>\n      <td>2</td>\n      <td>0</td>\n      <td>0</td>\n    </tr>\n    <tr>\n      <th>6</th>\n      <td>RICHMOND</td>\n      <td>1</td>\n      <td>0</td>\n      <td>0</td>\n      <td>0</td>\n      <td>1</td>\n      <td>1</td>\n      <td>0</td>\n      <td>0</td>\n      <td>1</td>\n      <td>...</td>\n      <td>1</td>\n      <td>0</td>\n      <td>0</td>\n      <td>1</td>\n      <td>1</td>\n      <td>1</td>\n      <td>0</td>\n      <td>2</td>\n      <td>0</td>\n      <td>0</td>\n    </tr>\n    <tr>\n      <th>7</th>\n      <td>SOUTHERN</td>\n      <td>0</td>\n      <td>0</td>\n      <td>0</td>\n      <td>0</td>\n      <td>0</td>\n      <td>0</td>\n      <td>0</td>\n      <td>1</td>\n      <td>2</td>\n      <td>...</td>\n      <td>0</td>\n      <td>0</td>\n      <td>0</td>\n      <td>2</td>\n      <td>0</td>\n      <td>0</td>\n      <td>3</td>\n      <td>2</td>\n      <td>0</td>\n      <td>0</td>\n    </tr>\n    <tr>\n      <th>8</th>\n      <td>TARAVAL</td>\n      <td>0</td>\n      <td>0</td>\n      <td>0</td>\n      <td>0</td>\n      <td>0</td>\n      <td>0</td>\n      <td>0</td>\n      <td>0</td>\n      <td>0</td>\n      <td>...</td>\n      <td>2</td>\n      <td>0</td>\n      <td>1</td>\n      <td>2</td>\n      <td>0</td>\n      <td>1</td>\n      <td>1</td>\n      <td>1</td>\n      <td>1</td>\n      <td>0</td>\n    </tr>\n    <tr>\n      <th>9</th>\n      <td>TENDERLOIN</td>\n      <td>0</td>\n      <td>0</td>\n      <td>0</td>\n      <td>1</td>\n      <td>0</td>\n      <td>0</td>\n      <td>0</td>\n      <td>0</td>\n      <td>3</td>\n      <td>...</td>\n      <td>0</td>\n      <td>0</td>\n      <td>0</td>\n      <td>1</td>\n      <td>0</td>\n      <td>6</td>\n      <td>2</td>\n      <td>2</td>\n      <td>0</td>\n      <td>0</td>\n    </tr>\n  </tbody>\n</table>\n<p>10 rows × 182 columns</p>\n</div>"
     },
     "metadata": {},
     "output_type": "execute_result",
     "execution_count": 14
    }
   ],
   "source": [
    "# Rows are then grouped by neighborhood and the values corresponding to each category are obtained by computing the\n",
    "# total number of occurrence of each type of venue\n",
    "venues_df = venues_df.groupby('PdDistrict').sum().reset_index()\n",
    "print(f\"Original dataframe shape: {venues.shape}.\")\n",
    "print(f\"Transformed dataframe shape: {venues_df.shape}.\")\n",
    "venues_df.head(10)\n",
    "\n"
   ],
   "metadata": {
    "collapsed": false,
    "pycharm": {
     "name": "#%%\n",
     "is_executing": false
    }
   }
  }
 ],
 "metadata": {
  "kernelspec": {
   "name": "pycharm-42a75ed7",
   "language": "python",
   "display_name": "PyCharm (IBM)"
  },
  "language_info": {
   "codemirror_mode": {
    "name": "ipython",
    "version": 2
   },
   "file_extension": ".py",
   "mimetype": "text/x-python",
   "name": "python",
   "nbconvert_exporter": "python",
   "pygments_lexer": "ipython2",
   "version": "2.7.6"
  },
  "pycharm": {
   "stem_cell": {
    "cell_type": "raw",
    "source": [],
    "metadata": {
     "collapsed": false
    }
   }
  }
 },
 "nbformat": 4,
 "nbformat_minor": 0
}